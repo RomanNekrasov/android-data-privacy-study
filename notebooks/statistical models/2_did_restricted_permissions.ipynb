{
 "cells": [
  {
   "cell_type": "code",
   "execution_count": 1,
   "metadata": {
    "ExecuteTime": {
     "end_time": "2024-01-03T22:38:30.168012Z",
     "start_time": "2024-01-03T22:38:29.946872Z"
    }
   },
   "outputs": [],
   "source": [
    "import pandas as pd\n",
    "import statsmodels.formula.api as smf\n",
    "from statsmodels.iolib.summary2 import summary_col\n",
    "import matplotlib.pyplot as plt\n",
    "import numpy as np"
   ]
  },
  {
   "cell_type": "code",
   "execution_count": 2,
   "metadata": {
    "ExecuteTime": {
     "end_time": "2024-01-03T22:38:30.254066Z",
     "start_time": "2024-01-03T22:38:30.171485Z"
    }
   },
   "outputs": [],
   "source": [
    "def process_permissions(permission_string):\n",
    "    list_items = permission_string.split(',')\n",
    "    processed_list = [item.strip() for item in list_items]\n",
    "    processed_list = [item.replace('.', '').lower() for item in processed_list]\n",
    "    \n",
    "    # fixing the format of a specific string\n",
    "    for i in range(len(processed_list)):\n",
    "        if processed_list[i] == \"add or modify calendar events and send email to guests without owners\\\\ knowledge\":\n",
    "            processed_list[i] = processed_list[i].replace('\\\\', '')\n",
    "\n",
    "    return processed_list"
   ]
  },
  {
   "cell_type": "markdown",
   "metadata": {},
   "source": [
    "# Study 2 - read call logs, write call logs (zijn de permissions van het artikel van Ksenia) over alle apps"
   ]
  },
  {
   "cell_type": "markdown",
   "source": [
    "## Loading, cleaning, preparing"
   ],
   "metadata": {}
  },
  {
   "cell_type": "code",
   "execution_count": 3,
   "metadata": {
    "ExecuteTime": {
     "end_time": "2024-01-03T22:38:58.601276Z",
     "start_time": "2024-01-03T22:38:30.223422Z"
    }
   },
   "outputs": [],
   "source": [
    "google_data_first = pd.read_csv('../../data/google_data_first.csv', encoding='ISO-8859-1')"
   ]
  },
  {
   "cell_type": "code",
   "execution_count": 4,
   "metadata": {
    "ExecuteTime": {
     "end_time": "2024-01-03T22:38:59.209866Z",
     "start_time": "2024-01-03T22:38:58.835113Z"
    }
   },
   "outputs": [],
   "source": [
    "google_data_first.drop(columns=['Unnamed: 0'], inplace=True)"
   ]
  },
  {
   "cell_type": "code",
   "execution_count": 5,
   "metadata": {
    "ExecuteTime": {
     "end_time": "2024-01-03T22:38:59.848949Z",
     "start_time": "2024-01-03T22:38:59.218325Z"
    }
   },
   "outputs": [],
   "source": [
    "google_data_first = google_data_first.dropna(subset=['permissions', 'nb_rating'])"
   ]
  },
  {
   "cell_type": "code",
   "execution_count": 6,
   "metadata": {
    "ExecuteTime": {
     "end_time": "2024-01-03T22:39:09.783501Z",
     "start_time": "2024-01-03T22:38:59.852295Z"
    }
   },
   "outputs": [],
   "source": [
    "google_data_first['processed_permissions'] = google_data_first['permissions'].apply(process_permissions)"
   ]
  },
  {
   "cell_type": "code",
   "execution_count": 7,
   "metadata": {
    "ExecuteTime": {
     "end_time": "2024-01-03T22:39:10.707362Z",
     "start_time": "2024-01-03T22:39:09.785069Z"
    }
   },
   "outputs": [],
   "source": [
    "apps_with_call_logs_permissions = google_data_first[google_data_first['processed_permissions'].apply(lambda x: 'read call log' in x or 'write call log' in x)]"
   ]
  },
  {
   "cell_type": "code",
   "outputs": [],
   "source": [
    "google_data_last = pd.read_csv('../../data/google_data_last.csv', encoding='ISO-8859-1')"
   ],
   "metadata": {
    "collapsed": false,
    "ExecuteTime": {
     "end_time": "2024-01-03T22:39:44.119908Z",
     "start_time": "2024-01-03T22:39:10.708015Z"
    }
   },
   "execution_count": 8
  },
  {
   "cell_type": "code",
   "execution_count": 9,
   "metadata": {
    "ExecuteTime": {
     "end_time": "2024-01-03T22:39:44.784771Z",
     "start_time": "2024-01-03T22:39:44.568298Z"
    }
   },
   "outputs": [],
   "source": [
    "google_data_last.drop(columns=['Unnamed: 0'], inplace=True)"
   ]
  },
  {
   "cell_type": "code",
   "execution_count": 10,
   "metadata": {
    "ExecuteTime": {
     "end_time": "2024-01-03T22:39:45.600135Z",
     "start_time": "2024-01-03T22:39:44.894853Z"
    }
   },
   "outputs": [],
   "source": [
    "google_data_last = google_data_last.dropna(subset=['permissions', 'nb_rating'])"
   ]
  },
  {
   "cell_type": "code",
   "execution_count": 11,
   "metadata": {
    "ExecuteTime": {
     "end_time": "2024-01-03T22:39:53.061589Z",
     "start_time": "2024-01-03T22:39:45.594457Z"
    }
   },
   "outputs": [],
   "source": [
    "google_data_last['processed_permissions'] = google_data_last['permissions'].apply(process_permissions)"
   ]
  },
  {
   "cell_type": "code",
   "execution_count": 12,
   "metadata": {
    "ExecuteTime": {
     "end_time": "2024-01-03T22:39:53.420753Z",
     "start_time": "2024-01-03T22:39:53.117446Z"
    }
   },
   "outputs": [],
   "source": [
    "apps_with_call_logs_permissions_last = google_data_last[google_data_last['processed_permissions'].apply(lambda x: 'read call log' in x or 'write call log' in x)].copy()"
   ]
  },
  {
   "cell_type": "code",
   "outputs": [],
   "source": [
    "# filter nb_rating to only include apps with more than 80 ratings, first cast to int and remove commas\n",
    "apps_with_call_logs_permissions_last['nb_rating'] = apps_with_call_logs_permissions_last['nb_rating'].astype(str).str.replace(',', '').astype(int)\n",
    "apps_with_call_logs_permissions_last = apps_with_call_logs_permissions_last[apps_with_call_logs_permissions_last['nb_rating'] > 112]"
   ],
   "metadata": {
    "collapsed": false,
    "ExecuteTime": {
     "end_time": "2024-01-03T22:39:53.438277Z",
     "start_time": "2024-01-03T22:39:53.425940Z"
    }
   },
   "execution_count": 13
  },
  {
   "cell_type": "code",
   "execution_count": 14,
   "metadata": {
    "ExecuteTime": {
     "end_time": "2024-01-03T22:39:53.443242Z",
     "start_time": "2024-01-03T22:39:53.433003Z"
    }
   },
   "outputs": [],
   "source": [
    "google_data_first['year'] = 2018\n",
    "google_data_last['year'] = 2019"
   ]
  },
  {
   "cell_type": "code",
   "execution_count": 15,
   "metadata": {
    "ExecuteTime": {
     "end_time": "2024-01-03T22:39:54.286832Z",
     "start_time": "2024-01-03T22:39:53.444874Z"
    }
   },
   "outputs": [],
   "source": [
    "combined_data_new = pd.concat([google_data_first, google_data_last])"
   ]
  },
  {
   "cell_type": "code",
   "execution_count": 16,
   "metadata": {
    "ExecuteTime": {
     "end_time": "2024-01-03T22:39:54.926412Z",
     "start_time": "2024-01-03T22:39:54.611173Z"
    }
   },
   "outputs": [],
   "source": [
    "# only the apps that have my_app_id in apps_with_call_logs_permissions\n",
    "combined_data_new = combined_data_new[combined_data_new['my_app_id'].isin(apps_with_call_logs_permissions['my_app_id'])]"
   ]
  },
  {
   "cell_type": "code",
   "execution_count": 17,
   "metadata": {
    "ExecuteTime": {
     "end_time": "2024-01-03T22:39:56.348708Z",
     "start_time": "2024-01-03T22:39:54.928779Z"
    }
   },
   "outputs": [],
   "source": [
    "# Filter to include only apps present in both 2018 and 2019\n",
    "apps_in_both_years = combined_data_new.groupby('my_app_id').filter(lambda x: x['year'].nunique() == 2).copy()"
   ]
  },
  {
   "cell_type": "code",
   "execution_count": 18,
   "metadata": {
    "ExecuteTime": {
     "end_time": "2024-01-03T22:39:56.417634Z",
     "start_time": "2024-01-03T22:39:56.363967Z"
    }
   },
   "outputs": [],
   "source": [
    "apps_in_both_years['treatment_group'] = apps_in_both_years['my_app_id'].isin(apps_with_call_logs_permissions['my_app_id']) & ~apps_in_both_years['my_app_id'].isin(apps_with_call_logs_permissions_last['my_app_id'])\n",
    "apps_in_both_years['control_group'] = apps_in_both_years['my_app_id'].isin(apps_with_call_logs_permissions['my_app_id']) & apps_in_both_years['my_app_id'].isin(apps_with_call_logs_permissions_last['my_app_id'])\n"
   ]
  },
  {
   "cell_type": "code",
   "execution_count": 19,
   "metadata": {
    "ExecuteTime": {
     "end_time": "2024-01-03T22:39:56.419324Z",
     "start_time": "2024-01-03T22:39:56.397017Z"
    }
   },
   "outputs": [],
   "source": [
    "apps_in_both_years['post_policy'] = (apps_in_both_years['year'] == 2019).astype(bool)"
   ]
  },
  {
   "cell_type": "code",
   "outputs": [],
   "source": [
    "# extract all PEGI ratings from the content_rating_app column\n",
    "apps_in_both_years['PEGI_rating'] = apps_in_both_years['content_rating_app'].str.extract('PEGI\\s(\\d+)')\n",
    "# fill NaN with '0'\n",
    "apps_in_both_years['PEGI_rating'].fillna('0', inplace=True)\n",
    "# Convert to int\n",
    "apps_in_both_years['PEGI_rating'] = apps_in_both_years['PEGI_rating'].astype(int)"
   ],
   "metadata": {
    "collapsed": false,
    "ExecuteTime": {
     "end_time": "2024-01-03T22:39:56.514376Z",
     "start_time": "2024-01-03T22:39:56.444676Z"
    }
   },
   "execution_count": 20
  },
  {
   "cell_type": "code",
   "outputs": [],
   "source": [
    "# change booleans to ints\n",
    "apps_in_both_years['in_app'] = apps_in_both_years['in_app'].astype(int)\n",
    "apps_in_both_years['has_ads'] = apps_in_both_years['has_ads'].astype(int)"
   ],
   "metadata": {
    "collapsed": false,
    "ExecuteTime": {
     "end_time": "2024-01-03T22:39:56.675977Z",
     "start_time": "2024-01-03T22:39:56.499319Z"
    }
   },
   "execution_count": 21
  },
  {
   "cell_type": "code",
   "outputs": [],
   "source": [
    "# Function to convert strings to integers\n",
    "def convert_to_int(download_str):\n",
    "    # Remove non-numeric characters\n",
    "    clean_str = ''.join(filter(str.isdigit, download_str))\n",
    "    # Convert to integer\n",
    "    return int(clean_str)\n",
    "\n",
    "apps_in_both_years['num_downloads_numeric'] = apps_in_both_years['num_downloads'].apply(convert_to_int)\n",
    "apps_in_both_years['log_num_downloads'] = np.log(apps_in_both_years['num_downloads_numeric'])\n",
    "apps_in_both_years['num_ratings_numeric'] = apps_in_both_years['nb_rating'].apply(convert_to_int)\n",
    "apps_in_both_years['log_num_ratings'] = np.log(apps_in_both_years['num_ratings_numeric'])"
   ],
   "metadata": {
    "collapsed": false,
    "ExecuteTime": {
     "end_time": "2024-01-03T22:39:56.929822Z",
     "start_time": "2024-01-03T22:39:56.528313Z"
    }
   },
   "execution_count": 22
  },
  {
   "cell_type": "code",
   "outputs": [],
   "source": [
    "apps_in_both_years = pd.get_dummies(apps_in_both_years, columns=['PEGI_rating'], dtype=int)"
   ],
   "metadata": {
    "collapsed": false,
    "ExecuteTime": {
     "end_time": "2024-01-03T22:39:57.059865Z",
     "start_time": "2024-01-03T22:39:56.654911Z"
    }
   },
   "execution_count": 23
  },
  {
   "cell_type": "code",
   "outputs": [
    {
     "data": {
      "text/plain": "treatment_group  post_policy\nFalse            False           371\n                 True            371\nTrue             False          3055\n                 True           3055\nName: year, dtype: int64"
     },
     "execution_count": 24,
     "metadata": {},
     "output_type": "execute_result"
    }
   ],
   "source": [
    "apps_in_both_years.groupby(['treatment_group', 'post_policy']).count()['year']"
   ],
   "metadata": {
    "collapsed": false,
    "ExecuteTime": {
     "end_time": "2024-01-03T22:39:57.089905Z",
     "start_time": "2024-01-03T22:39:56.756852Z"
    }
   },
   "execution_count": 24
  },
  {
   "cell_type": "markdown",
   "source": [
    "# DID"
   ],
   "metadata": {
    "collapsed": false
   }
  },
  {
   "cell_type": "code",
   "execution_count": 25,
   "metadata": {
    "ExecuteTime": {
     "end_time": "2024-01-03T22:39:57.373039Z",
     "start_time": "2024-01-03T22:39:56.993890Z"
    }
   },
   "outputs": [
    {
     "name": "stdout",
     "output_type": "stream",
     "text": [
      "                            OLS Regression Results                            \n",
      "==============================================================================\n",
      "Dep. Variable:             rating_app   R-squared:                       0.015\n",
      "Model:                            OLS   Adj. R-squared:                  0.015\n",
      "Method:                 Least Squares   F-statistic:                     35.61\n",
      "Date:                Wed, 03 Jan 2024   Prob (F-statistic):           7.96e-23\n",
      "Time:                        23:39:57   Log-Likelihood:                -6119.1\n",
      "No. Observations:                6852   AIC:                         1.225e+04\n",
      "Df Residuals:                    6848   BIC:                         1.227e+04\n",
      "Df Model:                           3                                         \n",
      "Covariance Type:            nonrobust                                         \n",
      "===============================================================================================================\n",
      "                                                  coef    std err          t      P>|t|      [0.025      0.975]\n",
      "---------------------------------------------------------------------------------------------------------------\n",
      "Intercept                                       3.8410      0.031    125.140      0.000       3.781       3.901\n",
      "treatment_group[T.True]                         0.2571      0.033      7.909      0.000       0.193       0.321\n",
      "post_policy[T.True]                             0.0208      0.043      0.478      0.633      -0.064       0.106\n",
      "treatment_group[T.True]:post_policy[T.True]    -0.0456      0.046     -0.992      0.321      -0.136       0.045\n",
      "==============================================================================\n",
      "Omnibus:                     1723.362   Durbin-Watson:                   1.677\n",
      "Prob(Omnibus):                  0.000   Jarque-Bera (JB):             4508.617\n",
      "Skew:                          -1.354   Prob(JB):                         0.00\n",
      "Kurtosis:                       5.909   Cond. No.                         15.5\n",
      "==============================================================================\n",
      "\n",
      "Notes:\n",
      "[1] Standard Errors assume that the covariance matrix of the errors is correctly specified.\n",
      "                            OLS Regression Results                            \n",
      "==============================================================================\n",
      "Dep. Variable:             rating_app   R-squared:                       0.067\n",
      "Model:                            OLS   Adj. R-squared:                  0.066\n",
      "Method:                 Least Squares   F-statistic:                     97.67\n",
      "Date:                Wed, 03 Jan 2024   Prob (F-statistic):          9.56e-100\n",
      "Time:                        23:39:57   Log-Likelihood:                -5936.1\n",
      "No. Observations:                6852   AIC:                         1.188e+04\n",
      "Df Residuals:                    6846   BIC:                         1.193e+04\n",
      "Df Model:                           5                                         \n",
      "Covariance Type:            nonrobust                                         \n",
      "===============================================================================================================\n",
      "                                                  coef    std err          t      P>|t|      [0.025      0.975]\n",
      "---------------------------------------------------------------------------------------------------------------\n",
      "Intercept                                       4.0466      0.046     87.428      0.000       3.956       4.137\n",
      "treatment_group[T.True]                         0.3028      0.032      9.386      0.000       0.240       0.366\n",
      "post_policy[T.True]                             0.0104      0.042      0.246      0.806      -0.072       0.093\n",
      "treatment_group[T.True]:post_policy[T.True]    -0.0377      0.045     -0.841      0.400      -0.125       0.050\n",
      "log_num_downloads                              -0.0919      0.006    -14.770      0.000      -0.104      -0.080\n",
      "log_num_ratings                                 0.1140      0.006     18.220      0.000       0.102       0.126\n",
      "==============================================================================\n",
      "Omnibus:                     1654.307   Durbin-Watson:                   1.684\n",
      "Prob(Omnibus):                  0.000   Jarque-Bera (JB):             4646.910\n",
      "Skew:                          -1.270   Prob(JB):                         0.00\n",
      "Kurtosis:                       6.135   Cond. No.                         135.\n",
      "==============================================================================\n",
      "\n",
      "Notes:\n",
      "[1] Standard Errors assume that the covariance matrix of the errors is correctly specified.\n",
      "                            OLS Regression Results                            \n",
      "==============================================================================\n",
      "Dep. Variable:             rating_app   R-squared:                       0.082\n",
      "Model:                            OLS   Adj. R-squared:                  0.081\n",
      "Method:                 Least Squares   F-statistic:                     87.65\n",
      "Date:                Wed, 03 Jan 2024   Prob (F-statistic):          1.03e-122\n",
      "Time:                        23:39:57   Log-Likelihood:                -5878.0\n",
      "No. Observations:                6852   AIC:                         1.177e+04\n",
      "Df Residuals:                    6844   BIC:                         1.183e+04\n",
      "Df Model:                           7                                         \n",
      "Covariance Type:            nonrobust                                         \n",
      "===============================================================================================================\n",
      "                                                  coef    std err          t      P>|t|      [0.025      0.975]\n",
      "---------------------------------------------------------------------------------------------------------------\n",
      "Intercept                                       4.1002      0.046     88.691      0.000       4.010       4.191\n",
      "treatment_group[T.True]                         0.2680      0.032      8.335      0.000       0.205       0.331\n",
      "post_policy[T.True]                             0.0109      0.042      0.261      0.794      -0.071       0.093\n",
      "treatment_group[T.True]:post_policy[T.True]    -0.0378      0.044     -0.851      0.395      -0.125       0.049\n",
      "log_num_downloads                              -0.0993      0.006    -15.859      0.000      -0.112      -0.087\n",
      "log_num_ratings                                 0.1131      0.006     17.880      0.000       0.101       0.126\n",
      "in_app                                          0.0159      0.020      0.804      0.421      -0.023       0.055\n",
      "has_ads                                         0.1620      0.016     10.422      0.000       0.132       0.193\n",
      "==============================================================================\n",
      "Omnibus:                     1609.506   Durbin-Watson:                   1.698\n",
      "Prob(Omnibus):                  0.000   Jarque-Bera (JB):             4566.446\n",
      "Skew:                          -1.232   Prob(JB):                         0.00\n",
      "Kurtosis:                       6.151   Cond. No.                         135.\n",
      "==============================================================================\n",
      "\n",
      "Notes:\n",
      "[1] Standard Errors assume that the covariance matrix of the errors is correctly specified.\n",
      "                            OLS Regression Results                            \n",
      "==============================================================================\n",
      "Dep. Variable:             rating_app   R-squared:                       0.083\n",
      "Model:                            OLS   Adj. R-squared:                  0.082\n",
      "Method:                 Least Squares   F-statistic:                     56.32\n",
      "Date:                Wed, 03 Jan 2024   Prob (F-statistic):          3.63e-120\n",
      "Time:                        23:39:57   Log-Likelihood:                -5875.1\n",
      "No. Observations:                6852   AIC:                         1.177e+04\n",
      "Df Residuals:                    6840   BIC:                         1.186e+04\n",
      "Df Model:                          11                                         \n",
      "Covariance Type:            nonrobust                                         \n",
      "===============================================================================================================\n",
      "                                                  coef    std err          t      P>|t|      [0.025      0.975]\n",
      "---------------------------------------------------------------------------------------------------------------\n",
      "Intercept                                       4.0982      0.046     88.620      0.000       4.008       4.189\n",
      "treatment_group[T.True]                         0.2683      0.032      8.340      0.000       0.205       0.331\n",
      "post_policy[T.True]                             0.0109      0.042      0.261      0.794      -0.071       0.093\n",
      "treatment_group[T.True]:post_policy[T.True]    -0.0377      0.044     -0.850      0.395      -0.125       0.049\n",
      "log_num_downloads                              -0.0994      0.006    -15.871      0.000      -0.112      -0.087\n",
      "log_num_ratings                                 0.1132      0.006     17.874      0.000       0.101       0.126\n",
      "in_app                                          0.0177      0.020      0.892      0.373      -0.021       0.056\n",
      "has_ads                                         0.1627      0.016     10.408      0.000       0.132       0.193\n",
      "PEGI_rating_0                                   0.0627      0.039      1.587      0.113      -0.015       0.140\n",
      "PEGI_rating_7                                  -0.5130      0.286     -1.794      0.073      -1.074       0.048\n",
      "PEGI_rating_12                                  0.0032      0.054      0.059      0.953      -0.103       0.110\n",
      "PEGI_rating_16                                 -0.0069      0.128     -0.054      0.957      -0.258       0.244\n",
      "==============================================================================\n",
      "Omnibus:                     1618.556   Durbin-Watson:                   1.699\n",
      "Prob(Omnibus):                  0.000   Jarque-Bera (JB):             4626.371\n",
      "Skew:                          -1.236   Prob(JB):                         0.00\n",
      "Kurtosis:                       6.177   Cond. No.                         545.\n",
      "==============================================================================\n",
      "\n",
      "Notes:\n",
      "[1] Standard Errors assume that the covariance matrix of the errors is correctly specified.\n"
     ]
    }
   ],
   "source": [
    "# Formula for the DiD model\n",
    "# The interaction term (treatment_group:post_policy) is the DiD estimator\n",
    "formulas = [\n",
    "    'rating_app ~ treatment_group + post_policy + treatment_group:post_policy',\n",
    "    'rating_app ~ treatment_group + post_policy + treatment_group:post_policy + log_num_downloads + log_num_ratings',\n",
    "    'rating_app ~ treatment_group + post_policy + treatment_group:post_policy + log_num_downloads + log_num_ratings + in_app + has_ads',\n",
    "    'rating_app ~ treatment_group + post_policy + treatment_group:post_policy + log_num_downloads + log_num_ratings + in_app + has_ads + PEGI_rating_0 + PEGI_rating_7 + PEGI_rating_12 + PEGI_rating_16',]\n",
    "\n",
    "models = [smf.ols(formula=formula, data=apps_in_both_years).fit() for formula in formulas]\n",
    "# Running the regression\n",
    "#model = smf.ols(formula=formula, data=apps_in_both_years).fit()\n",
    "\n",
    "# Output the summary of the regression results\n",
    "for model in models:\n",
    "    print(model.summary())\n"
   ]
  },
  {
   "cell_type": "markdown",
   "source": [
    "## Model presentation"
   ],
   "metadata": {
    "collapsed": false
   }
  },
  {
   "cell_type": "code",
   "outputs": [
    {
     "name": "stdout",
     "output_type": "stream",
     "text": [
      "\\begin{table}\n",
      "\\caption{}\n",
      "\\label{}\n",
      "\\begin{center}\n",
      "\\begin{tabular}{lllll}\n",
      "\\hline\n",
      "                                              & Model 1  & Model 2   & Model 3   & Model 4    \\\\\n",
      "\\hline\n",
      "Intercept                                     & 3.841*** & 4.047***  & 4.100***  & 4.098***   \\\\\n",
      "                                              & (0.031)  & (0.046)   & (0.046)   & (0.046)    \\\\\n",
      "treatment\\_group[T.True]                      & 0.257*** & 0.303***  & 0.268***  & 0.268***   \\\\\n",
      "                                              & (0.033)  & (0.032)   & (0.032)   & (0.032)    \\\\\n",
      "post\\_policy[T.True]                          & 0.021    & 0.010     & 0.011     & 0.011      \\\\\n",
      "                                              & (0.043)  & (0.042)   & (0.042)   & (0.042)    \\\\\n",
      "treatment\\_group[T.True]:post\\_policy[T.True] & -0.046   & -0.038    & -0.038    & -0.038     \\\\\n",
      "                                              & (0.046)  & (0.045)   & (0.044)   & (0.044)    \\\\\n",
      "log\\_num\\_downloads                           &          & -0.092*** & -0.099*** & -0.099***  \\\\\n",
      "                                              &          & (0.006)   & (0.006)   & (0.006)    \\\\\n",
      "log\\_num\\_ratings                             &          & 0.114***  & 0.113***  & 0.113***   \\\\\n",
      "                                              &          & (0.006)   & (0.006)   & (0.006)    \\\\\n",
      "in\\_app                                       &          &           & 0.016     & 0.018      \\\\\n",
      "                                              &          &           & (0.020)   & (0.020)    \\\\\n",
      "has\\_ads                                      &          &           & 0.162***  & 0.163***   \\\\\n",
      "                                              &          &           & (0.016)   & (0.016)    \\\\\n",
      "PEGI\\_rating\\_0                               &          &           &           & 0.063      \\\\\n",
      "                                              &          &           &           & (0.039)    \\\\\n",
      "PEGI\\_rating\\_7                               &          &           &           & -0.513*    \\\\\n",
      "                                              &          &           &           & (0.286)    \\\\\n",
      "PEGI\\_rating\\_12                              &          &           &           & 0.003      \\\\\n",
      "                                              &          &           &           & (0.054)    \\\\\n",
      "PEGI\\_rating\\_16                              &          &           &           & -0.007     \\\\\n",
      "                                              &          &           &           & (0.128)    \\\\\n",
      "R-squared                                     & 0.015    & 0.067     & 0.082     & 0.083      \\\\\n",
      "R-squared Adj.                                & 0.015    & 0.066     & 0.081     & 0.082      \\\\\n",
      "R-squared                                     & 0.02     & 0.07      & 0.08      & 0.08       \\\\\n",
      "Adj. R-squared                                & 0.01     & 0.07      & 0.08      & 0.08       \\\\\n",
      "AIC                                           & 12246    & 11884     & 11772     & 11774      \\\\\n",
      "BIC                                           & 12274    & 11925     & 11827     & 11856      \\\\\n",
      "\\hline\n",
      "\\end{tabular}\n",
      "\\end{center}\n",
      "\\end{table}\n",
      "\\bigskip\n",
      "Standard errors in parentheses. \\newline \n",
      "* p<.1, ** p<.05, ***p<.01\n"
     ]
    }
   ],
   "source": [
    "# Combining the model summaries into one table\n",
    "summary_table = summary_col(models, \n",
    "                                    stars=True, \n",
    "                                    model_names=['Model 1', 'Model 2', 'Model 3', 'Model 4'],\n",
    "                                    info_dict={'R-squared': lambda x: f\"{x.rsquared:.2f}\",\n",
    "                                               'Adj. R-squared': lambda x: f\"{x.rsquared_adj:.2f}\",\n",
    "                                               'AIC': lambda x: f\"{x.aic:.0f}\",\n",
    "                                               'BIC': lambda x: f\"{x.bic:.0f}\"},\n",
    "                                    float_format=\"%0.3f\")\n",
    "\n",
    "# Generating the combined summary table in LaTeX format\n",
    "summary_table_latex = summary_table.as_latex()\n",
    "print(summary_table_latex)"
   ],
   "metadata": {
    "collapsed": false,
    "ExecuteTime": {
     "end_time": "2024-01-03T22:39:57.614405Z",
     "start_time": "2024-01-03T22:39:57.303011Z"
    }
   },
   "execution_count": 26
  },
  {
   "cell_type": "code",
   "outputs": [
    {
     "data": {
      "text/plain": "<Figure size 1000x600 with 2 Axes>",
      "image/png": "[encoded data removed]"
     },
     "metadata": {},
     "output_type": "display_data"
    }
   ],
   "source": [
    "# Compute means directly for each group and time period\n",
    "means = {}\n",
    "for treatment in [True, False]:\n",
    "    for post in [True, False]:\n",
    "        means[(treatment, post)] = apps_in_both_years[(apps_in_both_years['treatment_group'] == treatment) & (apps_in_both_years['post_policy'] == post)]['rating_app'].mean()\n",
    "\n",
    "# Creating subplots: 1 row, 2 columns\n",
    "fig, axes = plt.subplots(1, 2, figsize=(10, 6))\n",
    "\n",
    "# Plotting the DiD plot on the first subplot\n",
    "axes[1].set_title('Difference in Differences Plot')\n",
    "axes[1].set_ylabel('Average Rating')\n",
    "for treatment in [True, False]:\n",
    "    axes[1].plot(['Pre-Policy', 'Post-Policy'], [means[(treatment, False)], means[(treatment, True)]], label=f'{\"Treatment\" if treatment else \"Control\"}')\n",
    "axes[1].legend()\n",
    "\n",
    "# Custom function adapted to use subplot for model summary\n",
    "def plot_model_summary_custom(model, ax, variable_order=None, name_mapping=None, significance_level=0.05):\n",
    "    coefficients = model.params.drop('Intercept')\n",
    "    confidence_intervals = model.conf_int().loc[coefficients.index]\n",
    "    p_values = model.pvalues.drop('Intercept')\n",
    "\n",
    "    if variable_order:\n",
    "        coefficients = coefficients.loc[variable_order]\n",
    "        confidence_intervals = confidence_intervals.loc[variable_order]\n",
    "        p_values = p_values.loc[variable_order]\n",
    "\n",
    "    variables = [name_mapping.get(var, var) for var in coefficients.index]\n",
    "\n",
    "    for i, var in enumerate(variables):\n",
    "        original_var = coefficients.index[i]\n",
    "        color = 'red' if p_values[original_var] < significance_level else 'black'\n",
    "        ax.errorbar(x=coefficients[original_var], y=i, \n",
    "                    xerr=[[coefficients[original_var] - confidence_intervals.loc[original_var][0]], \n",
    "                          [confidence_intervals.loc[original_var][1] - coefficients[original_var]]], \n",
    "                    fmt='o', color=color, ecolor='lightgray', elinewidth=3, capsize=0)\n",
    "    ax.axvline(x=0, color='black', linewidth=0.8)\n",
    "    ax.set_yticks(ticks=np.arange(len(variables)))\n",
    "    ax.set_yticklabels(variables)\n",
    "    ax.set_title('Coefficients and Confidence Intervals \\n(Significant at 0.05 in Red)')\n",
    "    ax.set_xlabel('Coefficient Value')\n",
    "    ax.set_ylabel('Variables')\n",
    "    ax.grid(True)\n",
    "\n",
    "variable_order = [\n",
    "    \"has_ads\",\n",
    "    \"in_app\",\n",
    "    \"log_num_ratings\",\n",
    "    \"log_num_downloads\",\n",
    "    \"treatment_group[T.True]:post_policy[T.True]\",\n",
    "    \"post_policy[T.True]\",\n",
    "    \"treatment_group[T.True]\"\n",
    "]\n",
    "\n",
    "name_mapping = {\n",
    "    \"treatment_group[T.True]\": \"Treatment Group\",\n",
    "    \"post_policy[T.True]\": \"Post-Policy\",\n",
    "    \"treatment_group[T.True]:post_policy[T.True]\": \"Treatment:Post-Policy Interaction\",\n",
    "    \"log_num_downloads\": \"Log of Number of Downloads\",\n",
    "    \"log_num_ratings\": \"Log of Number of Ratings\",\n",
    "    \"in_app\": \"In-App Purchases\",\n",
    "    \"has_ads\": \"Contains Ads\"\n",
    "}\n",
    "\n",
    "# Plotting the custom model summary plot on the second subplot\n",
    "plot_model_summary_custom(models[2], axes[0], variable_order=variable_order, name_mapping=name_mapping)\n",
    "\n",
    "plt.subplots_adjust(wspace=200)\n",
    "plt.tight_layout()\n",
    "plt.figtext(0.39, -0.03, \"Intercept (baseline level) = 4.100\", ha=\"center\", fontsize=10, color=\"gray\", fontstyle='italic')\n",
    "plt.show()\n"
   ],
   "metadata": {
    "collapsed": false,
    "ExecuteTime": {
     "end_time": "2024-01-03T22:39:59.698453Z",
     "start_time": "2024-01-03T22:39:57.628961Z"
    }
   },
   "execution_count": 27
  }
 ],
 "metadata": {
  "kernelspec": {
   "display_name": "envsbm",
   "language": "python",
   "name": "python3"
  },
  "language_info": {
   "codemirror_mode": {
    "name": "ipython",
    "version": 3
   },
   "file_extension": ".py",
   "mimetype": "text/x-python",
   "name": "python",
   "nbconvert_exporter": "python",
   "pygments_lexer": "ipython3",
   "version": "3.11.5"
  }
 },
 "nbformat": 4,
 "nbformat_minor": 2
}
